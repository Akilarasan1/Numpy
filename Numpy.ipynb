{
 "cells": [
  {
   "cell_type": "markdown",
   "id": "688d5ca3",
   "metadata": {},
   "source": [
    "# what is numpy?\n",
    "    Numpy is an short for Numerical python.\n",
    "    It is python library used for working with ndarrays(multidimensional arrays) and it used for      mathematical operation\n",
    "    "
   ]
  },
  {
   "cell_type": "markdown",
   "id": "9f4c7c9d",
   "metadata": {},
   "source": [
    "what is difference between python list and numpy?\n",
    "\n",
    "        this both looks similar with bracket[]\n",
    "        python list can contain different data types within single list(like int,float,string).\n",
    "        but numpy array stores same types of element "
   ]
  },
  {
   "cell_type": "markdown",
   "id": "925689f7",
   "metadata": {},
   "source": [
    "why we use numpy array?\n",
    "\n",
    "     Numpy array is faster than normal python list\n",
    "     it uses less memory space to store data"
   ]
  },
  {
   "cell_type": "code",
   "execution_count": 1,
   "id": "ebf11fe8",
   "metadata": {},
   "outputs": [],
   "source": [
    "#if you dont have numpy library in ur python ,type download\n",
    "#pip install numpy"
   ]
  },
  {
   "cell_type": "code",
   "execution_count": 2,
   "id": "2e7924f8",
   "metadata": {},
   "outputs": [],
   "source": [
    "#how to import numpy module from python\n",
    "import numpy as np\n",
    "# \"as\" elias"
   ]
  },
  {
   "cell_type": "code",
   "execution_count": 3,
   "id": "51aa560b",
   "metadata": {},
   "outputs": [
    {
     "data": {
      "text/plain": [
       "array([1, 9, 5, 3, 7, 8])"
      ]
     },
     "metadata": {},
     "output_type": "display_data"
    }
   ],
   "source": [
    "#creating array list\n",
    "a=np.array([1,9,5,3,7,8])\n",
    "#np mean numpy library or module\n",
    "# . mean object,we call\n",
    "#array mean collection items in same datatype contigous(next to next) memory locations\n",
    "display(a)"
   ]
  },
  {
   "cell_type": "markdown",
   "id": "73e1f38d",
   "metadata": {},
   "source": [
    "examples"
   ]
  },
  {
   "cell_type": "code",
   "execution_count": 4,
   "id": "4e015202",
   "metadata": {},
   "outputs": [
    {
     "data": {
      "text/plain": [
       "array([[1, 2, 3],\n",
       "       [2, 3, 4],\n",
       "       [7, 8, 9]])"
      ]
     },
     "metadata": {},
     "output_type": "display_data"
    },
    {
     "data": {
      "text/plain": [
       "array([1, 2, 3, 4])"
      ]
     },
     "metadata": {},
     "output_type": "display_data"
    }
   ],
   "source": [
    "b=np.array([1,2,3,4])#one dimensional array\n",
    "c=np.array([[1,2,3],[2,3,4],[7,8,9]])# this is two dimensional array\n",
    "display(c)\n",
    "display(b)"
   ]
  },
  {
   "cell_type": "markdown",
   "id": "a3cef00f",
   "metadata": {},
   "source": [
    "# Array indexing\n",
    " indexing always starts from \"0\"\n",
    "  we can access data using indexing.\n",
    "  there are two indicing positive indexing starts from 0\n",
    "  and negative indexing starts from -1\n"
   ]
  },
  {
   "cell_type": "code",
   "execution_count": 5,
   "id": "fce8cfe8",
   "metadata": {},
   "outputs": [],
   "source": [
    "a=np.array([1,2,3,4,5,6])"
   ]
  },
  {
   "cell_type": "code",
   "execution_count": 6,
   "id": "a3f4ae1c",
   "metadata": {},
   "outputs": [
    {
     "name": "stdout",
     "output_type": "stream",
     "text": [
      "1\n",
      "4\n"
     ]
    }
   ],
   "source": [
    "#example\n",
    "print(a[0])\n",
    "print(a[3])\n"
   ]
  },
  {
   "cell_type": "code",
   "execution_count": 7,
   "id": "8018625c",
   "metadata": {},
   "outputs": [
    {
     "name": "stdout",
     "output_type": "stream",
     "text": [
      "[[1 2 3]\n",
      " [2 3 4]\n",
      " [7 8 9]]\n"
     ]
    }
   ],
   "source": [
    "c=np.array([[1,2,3],[2,3,4],[7,8,9]])\n",
    "print(c)\n"
   ]
  },
  {
   "cell_type": "code",
   "execution_count": 8,
   "id": "6fe6f92d",
   "metadata": {
    "scrolled": true
   },
   "outputs": [
    {
     "name": "stdout",
     "output_type": "stream",
     "text": [
      "2\n"
     ]
    }
   ],
   "source": [
    "print(c[0,1])"
   ]
  },
  {
   "cell_type": "code",
   "execution_count": 9,
   "id": "f25b1f32",
   "metadata": {},
   "outputs": [
    {
     "data": {
      "text/plain": [
       "8"
      ]
     },
     "execution_count": 9,
     "metadata": {},
     "output_type": "execute_result"
    }
   ],
   "source": [
    "c[2,-2]"
   ]
  },
  {
   "cell_type": "code",
   "execution_count": 10,
   "id": "61c1a71b",
   "metadata": {},
   "outputs": [
    {
     "data": {
      "text/plain": [
       "array([7, 8, 9])"
      ]
     },
     "execution_count": 10,
     "metadata": {},
     "output_type": "execute_result"
    }
   ],
   "source": [
    "c[-1]"
   ]
  },
  {
   "cell_type": "code",
   "execution_count": 11,
   "id": "2a3bdf47",
   "metadata": {},
   "outputs": [
    {
     "data": {
      "text/plain": [
       "array([[6, 2, 3],\n",
       "       [2, 3, 4],\n",
       "       [7, 8, 9]])"
      ]
     },
     "execution_count": 11,
     "metadata": {},
     "output_type": "execute_result"
    }
   ],
   "source": [
    "#we can also modify values\n",
    "c[0,0]=6\n",
    "c"
   ]
  },
  {
   "cell_type": "code",
   "execution_count": 12,
   "id": "e1fc8871",
   "metadata": {},
   "outputs": [
    {
     "name": "stdout",
     "output_type": "stream",
     "text": [
      "[[3 3 3]\n",
      " [2 3 4]\n",
      " [7 8 9]]\n"
     ]
    }
   ],
   "source": [
    "c[0]=3.5464 # numpy array have fixed data type,you can change values in normal python list\n",
    "print(c)"
   ]
  },
  {
   "cell_type": "markdown",
   "id": "80702319",
   "metadata": {},
   "source": [
    "# Fancy Indexing\n",
    "\n",
    "  fancy indexing is an passing array of indicies to access the multiple array elements at once\n",
    "  \n",
    "  this is allow us to very quickly and modified complicated subset of an array 's values"
   ]
  },
  {
   "cell_type": "markdown",
   "id": "f5c4e85d",
   "metadata": {},
   "source": [
    "When using fancy indexing, the shape of the result reflects the shape of the index arrays rather than the shape of the array being indexed:"
   ]
  },
  {
   "cell_type": "code",
   "execution_count": 13,
   "id": "1be7ba3b",
   "metadata": {},
   "outputs": [
    {
     "name": "stdout",
     "output_type": "stream",
     "text": [
      "[2 3 8]\n"
     ]
    }
   ],
   "source": [
    "a=np.array([1,2,3,7,8,9,4,5,8,6])\n",
    "ind1=[1,2,4]\n",
    "print(a[ind1])"
   ]
  },
  {
   "cell_type": "code",
   "execution_count": 14,
   "id": "e5ddf33f",
   "metadata": {},
   "outputs": [
    {
     "name": "stdout",
     "output_type": "stream",
     "text": [
      "[[2 3]\n",
      " [9 8]]\n"
     ]
    }
   ],
   "source": [
    "b=np.array([[1,2],[5,8]])\n",
    "print(a[b])"
   ]
  },
  {
   "cell_type": "code",
   "execution_count": 15,
   "id": "566d7e83",
   "metadata": {},
   "outputs": [
    {
     "data": {
      "text/plain": [
       "array([[7, 5],\n",
       "       [8, 9]])"
      ]
     },
     "execution_count": 15,
     "metadata": {},
     "output_type": "execute_result"
    }
   ],
   "source": [
    "ind = np.array([[3, 7],\n",
    "                [4, 5]])\n",
    "a[ind]"
   ]
  },
  {
   "cell_type": "code",
   "execution_count": null,
   "id": "cf4d1b1a",
   "metadata": {},
   "outputs": [],
   "source": []
  },
  {
   "cell_type": "markdown",
   "id": "764fd0c0",
   "metadata": {},
   "source": [
    "# Array slicing"
   ]
  },
  {
   "cell_type": "markdown",
   "id": "ebbf0bce",
   "metadata": {},
   "source": [
    "one dimensional silicing"
   ]
  },
  {
   "cell_type": "code",
   "execution_count": 16,
   "id": "f1dfb8cf",
   "metadata": {},
   "outputs": [
    {
     "data": {
      "text/plain": [
       "array([1, 2, 3, 4, 5, 6, 7, 8])"
      ]
     },
     "execution_count": 16,
     "metadata": {},
     "output_type": "execute_result"
    }
   ],
   "source": [
    "d=np.array([1,2,3,4,5,6,7,8])\n",
    "d"
   ]
  },
  {
   "cell_type": "code",
   "execution_count": 17,
   "id": "5335803e",
   "metadata": {},
   "outputs": [
    {
     "name": "stdout",
     "output_type": "stream",
     "text": [
      "[1 2 3 4]\n",
      "[3 4 5 6 7 8]\n"
     ]
    }
   ],
   "source": [
    "\n",
    "print(d[:4]) #first four elements\n",
    "print(d[2:]) #after index 2 "
   ]
  },
  {
   "cell_type": "code",
   "execution_count": 18,
   "id": "a1ca6167",
   "metadata": {},
   "outputs": [
    {
     "data": {
      "text/plain": [
       "array([3, 4, 5, 6])"
      ]
     },
     "execution_count": 18,
     "metadata": {},
     "output_type": "execute_result"
    }
   ],
   "source": [
    "d[2:6]#middle subarray"
   ]
  },
  {
   "cell_type": "markdown",
   "id": "4045dab1",
   "metadata": {},
   "source": [
    "x[start:stop:step]"
   ]
  },
  {
   "cell_type": "code",
   "execution_count": 19,
   "id": "4c377eda",
   "metadata": {},
   "outputs": [
    {
     "data": {
      "text/plain": [
       "array([1, 3, 5, 7])"
      ]
     },
     "execution_count": 19,
     "metadata": {},
     "output_type": "execute_result"
    }
   ],
   "source": [
    "d[::2]"
   ]
  },
  {
   "cell_type": "code",
   "execution_count": 20,
   "id": "31fba1ef",
   "metadata": {},
   "outputs": [
    {
     "data": {
      "text/plain": [
       "array([2, 7])"
      ]
     },
     "execution_count": 20,
     "metadata": {},
     "output_type": "execute_result"
    }
   ],
   "source": [
    "d[1::5]"
   ]
  },
  {
   "cell_type": "code",
   "execution_count": 21,
   "id": "c3d22d87",
   "metadata": {},
   "outputs": [
    {
     "data": {
      "text/plain": [
       "array([8, 7, 6, 5, 4, 3, 2, 1])"
      ]
     },
     "execution_count": 21,
     "metadata": {},
     "output_type": "execute_result"
    }
   ],
   "source": [
    "d[::-1]#reversed array"
   ]
  },
  {
   "cell_type": "markdown",
   "id": "ff465f3e",
   "metadata": {},
   "source": [
    "# Multidimensional array silicing"
   ]
  },
  {
   "cell_type": "code",
   "execution_count": 22,
   "id": "c4b0431a",
   "metadata": {},
   "outputs": [
    {
     "data": {
      "text/plain": [
       "array([[1, 2, 3],\n",
       "       [4, 5, 6],\n",
       "       [7, 8, 9]])"
      ]
     },
     "execution_count": 22,
     "metadata": {},
     "output_type": "execute_result"
    }
   ],
   "source": [
    "df=np.array([[1,2,3],[4,5,6],[7,8,9,]])\n",
    "df"
   ]
  },
  {
   "cell_type": "code",
   "execution_count": 23,
   "id": "d438d057",
   "metadata": {},
   "outputs": [
    {
     "data": {
      "text/plain": [
       "array([[1, 2, 3],\n",
       "       [4, 5, 6]])"
      ]
     },
     "execution_count": 23,
     "metadata": {},
     "output_type": "execute_result"
    }
   ],
   "source": [
    "df[:2,:3]  #two rows, three columns"
   ]
  },
  {
   "cell_type": "code",
   "execution_count": 24,
   "id": "f7c6c021",
   "metadata": {},
   "outputs": [
    {
     "data": {
      "text/plain": [
       "array([[1, 3],\n",
       "       [4, 6],\n",
       "       [7, 9]])"
      ]
     },
     "execution_count": 24,
     "metadata": {},
     "output_type": "execute_result"
    }
   ],
   "source": [
    "df[:3,::2]  #all rows,every other columns"
   ]
  },
  {
   "cell_type": "code",
   "execution_count": 25,
   "id": "9f630797",
   "metadata": {},
   "outputs": [
    {
     "data": {
      "text/plain": [
       "array([[9, 8, 7],\n",
       "       [6, 5, 4],\n",
       "       [3, 2, 1]])"
      ]
     },
     "execution_count": 25,
     "metadata": {},
     "output_type": "execute_result"
    }
   ],
   "source": [
    "df[::-1,::-1]  #evry other rows,every other columns"
   ]
  },
  {
   "cell_type": "markdown",
   "id": "cd91456e",
   "metadata": {},
   "source": [
    "--------"
   ]
  },
  {
   "cell_type": "markdown",
   "id": "e084fb25",
   "metadata": {},
   "source": [
    "# Attributes of an array"
   ]
  },
  {
   "cell_type": "code",
   "execution_count": 26,
   "id": "c6c0e479",
   "metadata": {},
   "outputs": [
    {
     "data": {
      "text/plain": [
       "array([8, 6, 4, 3, 2, 1])"
      ]
     },
     "execution_count": 26,
     "metadata": {},
     "output_type": "execute_result"
    }
   ],
   "source": [
    "df=np.array([8,6,4,3,2,1])\n",
    "df"
   ]
  },
  {
   "cell_type": "code",
   "execution_count": 27,
   "id": "5dde9446",
   "metadata": {},
   "outputs": [
    {
     "name": "stdout",
     "output_type": "stream",
     "text": [
      "[[0. 1. 2. 3. 4.]\n",
      " [5. 6. 7. 8. 9.]]\n",
      "number of dimension: 2\n"
     ]
    }
   ],
   "source": [
    "df1=np.arange(0,10,dtype=\"float\").reshape(2,5)\n",
    "print(df1)\n",
    "print('number of dimension:',df1.ndim)"
   ]
  },
  {
   "cell_type": "code",
   "execution_count": 28,
   "id": "f2497df6",
   "metadata": {},
   "outputs": [
    {
     "data": {
      "text/plain": [
       "1"
      ]
     },
     "execution_count": 28,
     "metadata": {},
     "output_type": "execute_result"
    }
   ],
   "source": [
    "df.ndim #number of dimension"
   ]
  },
  {
   "cell_type": "code",
   "execution_count": 29,
   "id": "35d59380",
   "metadata": {},
   "outputs": [
    {
     "data": {
      "text/plain": [
       "(2, 5)"
      ]
     },
     "execution_count": 29,
     "metadata": {},
     "output_type": "execute_result"
    }
   ],
   "source": [
    "df1.shape #size of each dimension"
   ]
  },
  {
   "cell_type": "code",
   "execution_count": 30,
   "id": "58ac524a",
   "metadata": {},
   "outputs": [
    {
     "data": {
      "text/plain": [
       "10"
      ]
     },
     "execution_count": 30,
     "metadata": {},
     "output_type": "execute_result"
    }
   ],
   "source": [
    "df1.size # total number of values"
   ]
  },
  {
   "cell_type": "code",
   "execution_count": 31,
   "id": "82f130e4",
   "metadata": {},
   "outputs": [
    {
     "data": {
      "text/plain": [
       "dtype('float64')"
      ]
     },
     "execution_count": 31,
     "metadata": {},
     "output_type": "execute_result"
    }
   ],
   "source": [
    "df1.dtype"
   ]
  },
  {
   "cell_type": "code",
   "execution_count": 32,
   "id": "b2612019",
   "metadata": {},
   "outputs": [
    {
     "data": {
      "text/plain": [
       "8"
      ]
     },
     "execution_count": 32,
     "metadata": {},
     "output_type": "execute_result"
    }
   ],
   "source": [
    "df1.itemsize"
   ]
  },
  {
   "cell_type": "markdown",
   "id": "2bdd6a24",
   "metadata": {},
   "source": [
    "# np.zeros and np.ones"
   ]
  },
  {
   "cell_type": "code",
   "execution_count": 38,
   "id": "b2810664",
   "metadata": {},
   "outputs": [
    {
     "data": {
      "text/plain": [
       "array([0., 0., 0.])"
      ]
     },
     "execution_count": 38,
     "metadata": {},
     "output_type": "execute_result"
    }
   ],
   "source": [
    "a=np.zeros(3) #one dimensional\n",
    "a"
   ]
  },
  {
   "cell_type": "code",
   "execution_count": null,
   "id": "e605bbee",
   "metadata": {},
   "outputs": [],
   "source": [
    "arr=np.zeros((3,3)) #creates array of zeros with dimensions defined by the shape of argument\n",
    "arr"
   ]
  },
  {
   "cell_type": "code",
   "execution_count": null,
   "id": "320e0d13",
   "metadata": {},
   "outputs": [],
   "source": [
    "ar=np.ones((4,4),dtype=int)\n",
    "ar"
   ]
  },
  {
   "cell_type": "code",
   "execution_count": null,
   "id": "e01629f1",
   "metadata": {},
   "outputs": [],
   "source": [
    "#np.full((3,3),5)"
   ]
  },
  {
   "cell_type": "markdown",
   "id": "bd8771f4",
   "metadata": {},
   "source": [
    "  copy() \n",
    "  \n",
    "  function the  content are physically stored in different location.\n",
    "  \n",
    "to complete generate and distinct array .\n",
    "\n",
    " original copy does not change"
   ]
  },
  {
   "cell_type": "code",
   "execution_count": null,
   "id": "4f85d59e",
   "metadata": {},
   "outputs": [],
   "source": [
    "df=np.array([1,2,3,5,6])\n",
    "df1=df.copy()\n",
    "df1"
   ]
  },
  {
   "cell_type": "code",
   "execution_count": null,
   "id": "40f45667",
   "metadata": {},
   "outputs": [],
   "source": [
    "df1[2]=7\n",
    "df1"
   ]
  },
  {
   "cell_type": "code",
   "execution_count": null,
   "id": "233edf5a",
   "metadata": {},
   "outputs": [],
   "source": [
    "df"
   ]
  },
  {
   "cell_type": "markdown",
   "id": "ef7cd35b",
   "metadata": {},
   "source": [
    "# arange().\n",
    "\n",
    "it is array creation rountines based on numerical values.\n",
    "difference between range and arange.\n",
    "\n",
    "range is an python library.\n",
    "\n",
    "arange is an third party library.\n",
    "\n",
    "array range is an arange()"
   ]
  },
  {
   "cell_type": "markdown",
   "id": "6f89ff1c",
   "metadata": {},
   "source": [
    "syntax: np.arange(start,stop,step)"
   ]
  },
  {
   "cell_type": "code",
   "execution_count": null,
   "id": "7bf84665",
   "metadata": {},
   "outputs": [],
   "source": [
    "df=np.arange(0,20) #it creates one dimensional array with comma seperated numbers\n",
    "df"
   ]
  },
  {
   "cell_type": "code",
   "execution_count": null,
   "id": "7b653829",
   "metadata": {},
   "outputs": [],
   "source": [
    "s=np.arange(2,18,2)\n",
    "s"
   ]
  },
  {
   "cell_type": "code",
   "execution_count": null,
   "id": "a377c897",
   "metadata": {},
   "outputs": [],
   "source": [
    "s.shape"
   ]
  },
  {
   "cell_type": "code",
   "execution_count": null,
   "id": "1f962703",
   "metadata": {},
   "outputs": [],
   "source": [
    "#we can change it also 2 dimensions\n",
    "s.reshape(2,4)"
   ]
  },
  {
   "cell_type": "code",
   "execution_count": null,
   "id": "5a4d456f",
   "metadata": {},
   "outputs": [],
   "source": [
    "s.reshape(8,1)"
   ]
  },
  {
   "cell_type": "markdown",
   "id": "c322b854",
   "metadata": {},
   "source": [
    "# linspace()\n",
    "\n",
    "it is returns numpy array evently spaced number over a specified interval\n",
    "\n",
    "it seperates your values equal parts"
   ]
  },
  {
   "cell_type": "code",
   "execution_count": null,
   "id": "178a1525",
   "metadata": {},
   "outputs": [],
   "source": [
    "np.linspace(0,10,20,dtype='int')"
   ]
  },
  {
   "cell_type": "code",
   "execution_count": null,
   "id": "2d96e638",
   "metadata": {},
   "outputs": [],
   "source": [
    "f=np.linspace(0,5,16)\n",
    "f"
   ]
  },
  {
   "cell_type": "markdown",
   "id": "4677b40f",
   "metadata": {},
   "source": [
    "------------"
   ]
  },
  {
   "cell_type": "markdown",
   "id": "78516aa1",
   "metadata": {},
   "source": [
    "# Array manipulation\n",
    "  \n",
    "    1.changing array shape\n",
    "    2.Transpose like operations\n",
    "    3.joining array\n",
    "    4.spliting array"
   ]
  },
  {
   "cell_type": "markdown",
   "id": "32162ea8",
   "metadata": {},
   "source": [
    "# reshape()"
   ]
  },
  {
   "cell_type": "code",
   "execution_count": null,
   "id": "7fb8e7d6",
   "metadata": {},
   "outputs": [],
   "source": [
    "f.reshape(4,4)"
   ]
  },
  {
   "cell_type": "code",
   "execution_count": null,
   "id": "a188333c",
   "metadata": {},
   "outputs": [],
   "source": [
    "x=np.array([1,4,6,8,3])\n",
    "x.reshape((5,1))"
   ]
  },
  {
   "cell_type": "markdown",
   "id": "d53d3a7e",
   "metadata": {},
   "source": [
    "# np.concatenate()\n",
    "\n",
    "it is possible to combine multiple array into one single array\n",
    "\n",
    "Note:\n",
    "   \n",
    "   the axis parameters the specifies of the index of the new axis in the dimensions of the results"
   ]
  },
  {
   "cell_type": "code",
   "execution_count": null,
   "id": "296cfaf1",
   "metadata": {},
   "outputs": [],
   "source": [
    "x=np.arange(10,20).reshape(2,5)\n",
    "#print(x)\n",
    "\n",
    "y=np.arange(40,50).reshape(2,5)\n",
    "#print(y)\n",
    "\n",
    "print(np.concatenate([x,y]))"
   ]
  },
  {
   "cell_type": "code",
   "execution_count": null,
   "id": "1e6c052d",
   "metadata": {},
   "outputs": [],
   "source": [
    "x=np.array([[1,2],[3,4]])\n",
    "print('the value of x=\\n',x)\n",
    "y=np.array([[12,23]])\n",
    "print('\\n the value of y=\\n',y)\n",
    "print('\\nconcatenate =',np.concatenate((x,y),axis=None))\n"
   ]
  },
  {
   "cell_type": "code",
   "execution_count": null,
   "id": "ff58b334",
   "metadata": {},
   "outputs": [],
   "source": [
    "np.concatenate((x,y),axis=0)"
   ]
  },
  {
   "cell_type": "code",
   "execution_count": null,
   "id": "02033439",
   "metadata": {},
   "outputs": [],
   "source": [
    "np.concatenate((x,y.T),axis=1)"
   ]
  },
  {
   "cell_type": "markdown",
   "id": "f9ef2629",
   "metadata": {},
   "source": [
    "# joining array\n",
    "\n",
    "stack\n",
    "\n",
    "vstack \n",
    "\n",
    "hstack\n",
    "\n",
    "column_stack"
   ]
  },
  {
   "cell_type": "markdown",
   "id": "a0323af4",
   "metadata": {},
   "source": [
    "stacks joins sequence of arrays along a new axis\n"
   ]
  },
  {
   "cell_type": "code",
   "execution_count": null,
   "id": "9e895d7e",
   "metadata": {},
   "outputs": [],
   "source": [
    "a=np.array([1,2,4])\n",
    "b=np.array([4,5,6])\n",
    "arr=np.stack((a,b)) #size of the array must be same stack\n",
    "arr"
   ]
  },
  {
   "cell_type": "code",
   "execution_count": null,
   "id": "d228deb6",
   "metadata": {},
   "outputs": [],
   "source": [
    "#column_stack()-1D array as columns into \n",
    "c=np.array([7,8,9])\n",
    "c"
   ]
  },
  {
   "cell_type": "code",
   "execution_count": null,
   "id": "5f3cd8c1",
   "metadata": {},
   "outputs": [],
   "source": [
    "df1=np.column_stack((a,b,c))\n",
    "df1"
   ]
  },
  {
   "cell_type": "code",
   "execution_count": null,
   "id": "9014a9d5",
   "metadata": {},
   "outputs": [],
   "source": [
    "#hstack\n",
    "np.hstack((a,b))"
   ]
  },
  {
   "cell_type": "code",
   "execution_count": null,
   "id": "dc67c38c",
   "metadata": {},
   "outputs": [],
   "source": [
    "#vstack\n",
    "np.vstack((a,b))"
   ]
  },
  {
   "cell_type": "markdown",
   "id": "f42995ba",
   "metadata": {},
   "source": [
    "# spliting array\n",
    "    split()\n",
    "    hsplit()\n",
    "    vsplit()"
   ]
  },
  {
   "cell_type": "code",
   "execution_count": null,
   "id": "743780fd",
   "metadata": {},
   "outputs": [],
   "source": [
    "#split() - splits an array into multiple sub arrays\n",
    "x=np.arange(9).reshape((3,3))\n",
    "print(x)\n",
    "np.split(x,3)"
   ]
  },
  {
   "cell_type": "code",
   "execution_count": null,
   "id": "3baaa212",
   "metadata": {},
   "outputs": [],
   "source": [
    "np.hsplit(x,3) # horizontally splits array"
   ]
  },
  {
   "cell_type": "code",
   "execution_count": null,
   "id": "54899700",
   "metadata": {},
   "outputs": [],
   "source": [
    "arr=np.arange(16).reshape(4,4)\n",
    "print(arr)\n",
    "\n",
    "np.vsplit(arr,2) #split array the vertically"
   ]
  },
  {
   "cell_type": "markdown",
   "id": "cdeef165",
   "metadata": {},
   "source": [
    "# Ravel\n",
    "\n",
    "ravel()\n",
    "\n",
    "it is used to two dimensional array convert into one dimensional array "
   ]
  },
  {
   "cell_type": "code",
   "execution_count": null,
   "id": "5e64294a",
   "metadata": {},
   "outputs": [],
   "source": [
    "arr"
   ]
  },
  {
   "cell_type": "code",
   "execution_count": null,
   "id": "a5d6210a",
   "metadata": {},
   "outputs": [],
   "source": [
    "ar1=np.ravel(arr)\n",
    "ar1"
   ]
  },
  {
   "cell_type": "markdown",
   "id": "e6a14fc5",
   "metadata": {},
   "source": [
    "# Transpose\n",
    "transpose()\n",
    "\n",
    "this functions is used to invert columns with rows"
   ]
  },
  {
   "cell_type": "code",
   "execution_count": null,
   "id": "1681fbaf",
   "metadata": {},
   "outputs": [],
   "source": [
    "a = np.array([[1, 2], [3, 4]])\n",
    "a.transpose()"
   ]
  },
  {
   "cell_type": "markdown",
   "id": "2ea0f957",
   "metadata": {},
   "source": [
    "----"
   ]
  },
  {
   "cell_type": "markdown",
   "id": "9c42804a",
   "metadata": {},
   "source": [
    "# Arithmetic operations in numpy"
   ]
  },
  {
   "cell_type": "code",
   "execution_count": null,
   "id": "425e77a1",
   "metadata": {},
   "outputs": [],
   "source": [
    "a=np.arange(2,22)\n",
    "print('multiplication:',a*3)\n",
    "print('subtraction:',a-2)\n",
    "print('addition:',a+2)"
   ]
  },
  {
   "cell_type": "code",
   "execution_count": null,
   "id": "68e3e252",
   "metadata": {},
   "outputs": [],
   "source": [
    "a1=np.arange(6).reshape(2,3)\n",
    "#print(a1)\n",
    "a2=np.arange(10,16).reshape(2,3)\n",
    "#print(a2)\n",
    "print(a1+a2)\n",
    "print(a1-a2)\n",
    "print(a1*a2)\n"
   ]
  },
  {
   "cell_type": "markdown",
   "id": "284dba70",
   "metadata": {},
   "source": [
    "# Matrix product\n",
    "\n",
    "it is element wise operation\n",
    "we have performed ,matrix operations a and b"
   ]
  },
  {
   "cell_type": "code",
   "execution_count": null,
   "id": "0d4c655c",
   "metadata": {},
   "outputs": [],
   "source": [
    "b1=np.arange(2,10).reshape(2,4)\n",
    "print('b1 = \\n',b1)\n",
    "b2=np.arange(3,11).reshape(4,2)\n",
    "print('b2 = \\n',b2)\n",
    "np.dot(b1,b2)   #when you product the two matrix first value shape 2*4 and second 4*2 #4*4 look same"
   ]
  },
  {
   "cell_type": "markdown",
   "id": "b35283e0",
   "metadata": {},
   "source": [
    "----"
   ]
  },
  {
   "cell_type": "markdown",
   "id": "e3733f49",
   "metadata": {},
   "source": [
    "# Universal functions.\n",
    "\n",
    "it is an element wise operations;\n",
    "\n",
    "Types of universal functions.\n",
    "           \n",
    "    1.Math operation \n",
    "          add()\n",
    "          log()\n",
    "          sqrt()\n",
    "    2.Trigonometric operation\n",
    "          sin()\n",
    "          cos()\n",
    "          hypot()\n",
    "    3.Bit Twilding operation\n",
    "          isinfinite()\n",
    "          isnan()\n",
    "    4.comparsion operation \n",
    "          greaterthan()\n",
    "          less()\n",
    "          equal()\n",
    "    5.floating operations\n",
    "          bitwise_and()\n",
    "          bitwise_or()"
   ]
  },
  {
   "cell_type": "markdown",
   "id": "712ac55e",
   "metadata": {},
   "source": [
    "# Math operation"
   ]
  },
  {
   "cell_type": "code",
   "execution_count": null,
   "id": "ee20ac2d",
   "metadata": {},
   "outputs": [],
   "source": [
    "#add()\n",
    "x1 = np.arange(9.0).reshape((3, 3))\n",
    "print(x1)\n",
    "x2 = np.arange(3.0)\n",
    "print(x2)\n",
    "np.add(x1, x2)"
   ]
  },
  {
   "cell_type": "code",
   "execution_count": null,
   "id": "391b6a07",
   "metadata": {},
   "outputs": [],
   "source": [
    "#math operation\n",
    "a=np.array([1,4,9])\n",
    "b=[4,16,25,36]\n",
    "print(np.sqrt(a))\n",
    "print(np.sqrt(b))"
   ]
  },
  {
   "cell_type": "code",
   "execution_count": null,
   "id": "84be8e00",
   "metadata": {},
   "outputs": [],
   "source": [
    "#mod this product of matrix\n",
    "a=np.arange(2,15)\n",
    "b=np.mod(a,2) #a divided by \"2\",remainder is 0,1,0,1\n",
    "print(b)"
   ]
  },
  {
   "cell_type": "code",
   "execution_count": null,
   "id": "b5b6358d",
   "metadata": {},
   "outputs": [],
   "source": [
    "#log()\n",
    "#it is the inverse of exponential function as well as element wise natural algorithm\n",
    "#log(exp(x))=x ,it is the reverse of exponential function\n",
    "#np.log(x,out ,where) , b power of y= a  ###,i.e. by= a ⇔log b a=y\n",
    "\n",
    "#6 power of 2 = 36 -exponent     Log6 36 = 2 -logarthims\n",
    "#10 power of 2 = 100             Log10 100 = 2\n"
   ]
  },
  {
   "cell_type": "code",
   "execution_count": null,
   "id": "f01f481d",
   "metadata": {},
   "outputs": [],
   "source": [
    "y=np.log([1,2,4])\n",
    "print(y)\n",
    "z=np.log(2)\n",
    "print(z)"
   ]
  },
  {
   "attachments": {},
   "cell_type": "markdown",
   "id": "f2385827",
   "metadata": {},
   "source": [
    "# floating operation\n",
    "\n",
    "10 & 7 = 2!\n",
    "\n",
    "[python-bitwise-and-operator.png](attachment:python-bitwise-and-operator.png)\n",
    "example\n",
    "\n",
    "a =10 =>1010 \n",
    "\n",
    "b = 7 =>0111\n",
    "\n",
    "10 & 2=>0010 =>decimal number = 2\n",
    "       \n",
    "10 | 2=>1111 => decimal number=>15\n"
   ]
  },
  {
   "cell_type": "code",
   "execution_count": null,
   "id": "89afd468",
   "metadata": {},
   "outputs": [],
   "source": [
    "print('decimal number',np.bitwise_and(10,7))\n",
    "print('decimal number',np.bitwise_or(10,7))\n"
   ]
  },
  {
   "cell_type": "markdown",
   "id": "fea9a43b",
   "metadata": {},
   "source": [
    "# Trigonometric operation\n",
    "sin(35°)\t=  Opposite\\Hypotenuse =  2.8\\4.9 = 0.57...\n",
    " \t \n",
    "cos(35°)\t=  Adjacent\\Hypotenuse =  4.0\\4.9= 0.82...\n",
    " \t \n",
    "tan(35°)\t=  Opposite\\Adjacent= 2.8\\4.0   = 0.70...\n",
    "\n",
    "\n",
    "hypotenuse formula = √ ((base2) + (height 2))\n",
    "\n",
    "=√(52+132)\n",
    "=√25+169\n",
    "=√194\n",
    "=13.98"
   ]
  },
  {
   "cell_type": "code",
   "execution_count": null,
   "id": "caf18793",
   "metadata": {},
   "outputs": [],
   "source": [
    "base=8\n",
    "height=12\n",
    "np.hypot(base,height)"
   ]
  },
  {
   "cell_type": "markdown",
   "id": "ecbf7794",
   "metadata": {},
   "source": [
    "# Bit Twilding operation\n",
    "isnan() = tests element wise for NaN(not a number) and returns result as a boolean array"
   ]
  },
  {
   "cell_type": "code",
   "execution_count": null,
   "id": "b96f4f69",
   "metadata": {},
   "outputs": [],
   "source": [
    "np.log(-1)"
   ]
  },
  {
   "cell_type": "code",
   "execution_count": null,
   "id": "67a44ee1",
   "metadata": {},
   "outputs": [],
   "source": [
    "np.log(12)"
   ]
  },
  {
   "cell_type": "code",
   "execution_count": null,
   "id": "b1b09996",
   "metadata": {},
   "outputs": [],
   "source": [
    "x=(np.log(-1),1.,np.log(12))\n",
    "np.isnan(x)"
   ]
  },
  {
   "cell_type": "markdown",
   "id": "ff580d23",
   "metadata": {},
   "source": [
    "# comparsion operation"
   ]
  },
  {
   "cell_type": "code",
   "execution_count": null,
   "id": "dad01c7d",
   "metadata": {},
   "outputs": [],
   "source": [
    "x = np.array([0, 2, 3, 0, 1, 6, 5, 2])\n",
    "print('Original Array = ', x)\n",
    "print('\\nGreater Than 0 = \\n ', np.greater(x, 0))\n",
    "print(' \\n less Than 1 = \\n', np.less(x, 1))\n",
    "print('\\n equal =\\n',np.equal(x,2))\n",
    "\n",
    " "
   ]
  },
  {
   "cell_type": "markdown",
   "id": "f319ba77",
   "metadata": {},
   "source": [
    "--------------"
   ]
  },
  {
   "cell_type": "markdown",
   "id": "5ba051bb",
   "metadata": {},
   "source": [
    "# Aggregate Functions\n",
    "\n",
    "sum of all elements in array\n",
    "\n",
    "sum :  a.sum()\n",
    "\n",
    "max  : a.max()\n",
    "\n",
    "min   : a.min()\n",
    "\n",
    "mean   :a.mean()\n",
    "\n",
    "std    :a.std()"
   ]
  },
  {
   "cell_type": "code",
   "execution_count": null,
   "id": "ee66ba03",
   "metadata": {},
   "outputs": [],
   "source": [
    "a.sum()"
   ]
  },
  {
   "cell_type": "code",
   "execution_count": null,
   "id": "82200bd8",
   "metadata": {},
   "outputs": [],
   "source": [
    "a.max()"
   ]
  },
  {
   "cell_type": "code",
   "execution_count": null,
   "id": "d5ccea14",
   "metadata": {},
   "outputs": [],
   "source": [
    "a.std()"
   ]
  },
  {
   "cell_type": "markdown",
   "id": "67126548",
   "metadata": {},
   "source": [
    "# Logic Function:\n",
    "\n",
    "    Testing truth value\n",
    "\n",
    "    testing array type\n",
    "\n",
    "    logical operations\n",
    "\n",
    "     comparsions"
   ]
  },
  {
   "cell_type": "markdown",
   "id": "a58f8c74",
   "metadata": {},
   "source": [
    "np.all() - tests whether any array element along axis evaluate to true"
   ]
  },
  {
   "cell_type": "markdown",
   "id": "380bfd27",
   "metadata": {},
   "source": [
    "not a number- positivity infinity and negatively infinity evaluate to true because these are not equal to zero\n",
    "\n",
    "https://www.sharpsightlabs.com/blog/numpy-all/"
   ]
  },
  {
   "cell_type": "code",
   "execution_count": null,
   "id": "59d5c3ab",
   "metadata": {},
   "outputs": [],
   "source": [
    "np.all([-1,2,3])"
   ]
  },
  {
   "cell_type": "code",
   "execution_count": null,
   "id": "1f14badf",
   "metadata": {},
   "outputs": [],
   "source": [
    "np.all([0,1,2])"
   ]
  },
  {
   "cell_type": "code",
   "execution_count": null,
   "id": "39a7f8a1",
   "metadata": {},
   "outputs": [],
   "source": [
    "np.iscomplex([2j,2+3j,9]) # true if input element is complex"
   ]
  },
  {
   "cell_type": "code",
   "execution_count": null,
   "id": "69d1b9ee",
   "metadata": {},
   "outputs": [],
   "source": [
    "np.isreal([2j,3,9j]) #true if input element is real"
   ]
  },
  {
   "cell_type": "code",
   "execution_count": null,
   "id": "38b279c0",
   "metadata": {},
   "outputs": [],
   "source": [
    "#x=[0,1,2,3,4,5,6,7]\n",
    "# Python program explaining\n",
    "\n",
    "x = np.arange(6)\n",
    "np.logical_and(x>1, x<4)\n"
   ]
  },
  {
   "cell_type": "code",
   "execution_count": null,
   "id": "ee0a0aa3",
   "metadata": {},
   "outputs": [],
   "source": [
    "#np.logical_or()\n",
    "\n",
    "x = np.arange(7)\n",
    "print(x)\n",
    "\n",
    "np.logical_or(x < 2, x > 4)\n"
   ]
  },
  {
   "cell_type": "code",
   "execution_count": null,
   "id": "44dbd784",
   "metadata": {},
   "outputs": [],
   "source": [
    "#np.logical_not()\n",
    "x = np.arange(6)\n",
    "\n",
    "np.logical_not(x < 4)\n"
   ]
  },
  {
   "cell_type": "code",
   "execution_count": null,
   "id": "6d1b775f",
   "metadata": {},
   "outputs": [],
   "source": [
    "#np.greater([[1,2,3,4,5],[3,4,5,6,7]])\n",
    "# Python Program illustrating\n",
    "# numpy.greater_equal() method\n",
    "a = np.array([4,2])\n",
    "b = np.array([6,2])\n",
    "\n",
    "print(\"Is a greater_equal than b : \", a >= b)\n"
   ]
  },
  {
   "cell_type": "code",
   "execution_count": null,
   "id": "e48244c2",
   "metadata": {},
   "outputs": [],
   "source": [
    "x = np.array([6,4])\n",
    "y = np.array([2,4])\n",
    "print(x>y)\n",
    "print(x<y)\n",
    "print(x>=y)\n"
   ]
  },
  {
   "cell_type": "markdown",
   "id": "fa4de3ba",
   "metadata": {},
   "source": [
    "for reference\n",
    "\n",
    "w3source\n",
    " \n",
    "https://jakevdp.github.io/PythonDataScienceHandbook/02.07-fancy-indexing.html"
   ]
  },
  {
   "cell_type": "code",
   "execution_count": null,
   "id": "78d2dda5",
   "metadata": {},
   "outputs": [],
   "source": []
  }
 ],
 "metadata": {
  "kernelspec": {
   "display_name": "Python 3 (ipykernel)",
   "language": "python",
   "name": "python3"
  },
  "language_info": {
   "codemirror_mode": {
    "name": "ipython",
    "version": 3
   },
   "file_extension": ".py",
   "mimetype": "text/x-python",
   "name": "python",
   "nbconvert_exporter": "python",
   "pygments_lexer": "ipython3",
   "version": "3.9.12"
  }
 },
 "nbformat": 4,
 "nbformat_minor": 5
}
